{
 "cells": [
  {
   "cell_type": "code",
   "execution_count": 15,
   "metadata": {},
   "outputs": [
    {
     "name": "stdout",
     "output_type": "stream",
     "text": [
      "python by Eva Rosyanti\n",
      "19\n",
      "3.142857142857143\n",
      "1 2 3\n",
      "{'nama': 'Tyo', 'umur': 19}\n"
     ]
    }
   ],
   "source": [
    "var_string=\"python by Eva Rosyanti\" #type data string\n",
    "integer=19 #type data integer\n",
    "float=22/7 #type data float\n",
    "array=[1,2,3,4]\n",
    "var_dict={\"nama\":\"Tyo\", 'umur':19}#type data dict\n",
    "print(var_string)\n",
    "print(integer)\n",
    "print(float)\n",
    "print(array[0],array[1],array[2])\n",
    "print(var_dict)#type data tuple"
   ]
  },
  {
   "cell_type": "code",
   "execution_count": null,
   "metadata": {
    "collapsed": true
   },
   "outputs": [],
   "source": []
  },
  {
   "cell_type": "code",
   "execution_count": null,
   "metadata": {
    "collapsed": true
   },
   "outputs": [],
   "source": []
  }
 ],
 "metadata": {
  "kernelspec": {
   "display_name": "Python 3",
   "language": "python",
   "name": "python3"
  },
  "language_info": {
   "codemirror_mode": {
    "name": "ipython",
    "version": 3
   },
   "file_extension": ".py",
   "mimetype": "text/x-python",
   "name": "python",
   "nbconvert_exporter": "python",
   "pygments_lexer": "ipython3",
   "version": "3.6.3"
  }
 },
 "nbformat": 4,
 "nbformat_minor": 2
}
